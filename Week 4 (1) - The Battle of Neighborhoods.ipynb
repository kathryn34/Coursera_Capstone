{
    "cells": [
        {
            "cell_type": "markdown",
            "metadata": {
                "collapsed": true
            },
            "source": "# Week4 (1) - The Battle of the Neighborhoods"
        },
        {
            "cell_type": "markdown",
            "metadata": {},
            "source": "## Introduction & Business Problem:"
        },
        {
            "cell_type": "markdown",
            "metadata": {},
            "source": "Toronto is the most populous city in Canada and the fourth most populous city in North America. Toronto has population of 2,731,571(2016,Wikipedia), and is an international centre of business, finance, arts, and culture, and is recognized as one of the most multicultural and cosmopolitan cities in the world.\n\nCanada\u2019s largest city comes to mind as I stroll around downtown Toronto which is peppered with buzzing caf\u00e9s, eateries with changing chalkboard menus, bars serving artisanal cocktails, vibrant food trucks and delis and bakeries redolent of freshly baked goods.(Read more at: https://economictimes.indiatimes.com/magazines/panache/why-toronto-is-a-paradise-for-foodies/articleshow/61895555.cms?utm_source=contentofinterest&utm_medium=text&utm_campaign=cppst)\n\nI would like to make reginonal clustering of venue information suing Foursquare lacation to inform the cusine diversity in toronto by borough.\n\nMy work is aimed towards Entrepreneurs or Business owners who want to open a new Restaurant or grow their current business. The analysis will provide vital information that can be used by the target audience."
        }
    ],
    "metadata": {
        "kernelspec": {
            "display_name": "Python 3.6",
            "language": "python",
            "name": "python3"
        },
        "language_info": {
            "codemirror_mode": {
                "name": "ipython",
                "version": 3
            },
            "file_extension": ".py",
            "mimetype": "text/x-python",
            "name": "python",
            "nbconvert_exporter": "python",
            "pygments_lexer": "ipython3",
            "version": "3.6.9"
        }
    },
    "nbformat": 4,
    "nbformat_minor": 1
}