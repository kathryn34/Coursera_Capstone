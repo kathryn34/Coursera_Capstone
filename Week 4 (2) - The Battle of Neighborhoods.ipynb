{
    "cells": [
        {
            "cell_type": "markdown",
            "metadata": {},
            "source": "# Week4 (2) - The Battle of the Neighborhoods"
        },
        {
            "cell_type": "markdown",
            "metadata": {},
            "source": "# Data"
        },
        {
            "cell_type": "markdown",
            "metadata": {},
            "source": "### Data 1: Use a real world data set from wikipedia showing Neighborhoods in Toronto.\n\n### Data 2: Use a real world data set of postal code in Tronto from 'http://cocl.us/Geospatial_data' csv file.\n\n### Data 3: Gathering additional information about restaurants in Toronto from Foursquare.\n\nI will use data 1 and data 2 to be merged so that I get postal code with decimal infomation for each borough. Then I will gather the additional information about the restaurants in toronto and preprocess the data to make it more intuitive. For example, what kind of cuisine is the most common in certain area in Toronto."
        }
    ],
    "metadata": {
        "kernelspec": {
            "display_name": "Python 3.6",
            "language": "python",
            "name": "python3"
        },
        "language_info": {
            "codemirror_mode": {
                "name": "ipython",
                "version": 3
            },
            "file_extension": ".py",
            "mimetype": "text/x-python",
            "name": "python",
            "nbconvert_exporter": "python",
            "pygments_lexer": "ipython3",
            "version": "3.6.9"
        }
    },
    "nbformat": 4,
    "nbformat_minor": 1
}